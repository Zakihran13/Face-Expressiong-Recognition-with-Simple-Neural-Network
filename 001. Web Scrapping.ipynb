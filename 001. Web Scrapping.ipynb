{
 "cells": [
  {
   "cell_type": "markdown",
   "metadata": {},
   "source": [
    "# *WEB SCRAPPING IMAGE*"
   ]
  },
  {
   "cell_type": "code",
   "execution_count": 4,
   "metadata": {},
   "outputs": [],
   "source": [
    "from selenium import webdriver\n",
    "from selenium.webdriver.common.keys import Keys\n",
    "from selenium.webdriver.common.by import By\n",
    "from selenium.webdriver.chrome.service import Service\n",
    "import time\n",
    "import urllib\n",
    "import os\n",
    "\n",
    "folder_dir = \"S:\\ML Project\\Tensorflow DirectML\\Facial Expression 2\\Images\"\n",
    "variabel = str(input('Masukan gambar yang ingin dicari: '))\n",
    "\n",
    "\n",
    "# bikin driver buat buka chrome dulu\n",
    "srvs = Service(\"S:\\Web Scrapping\\msedgedriver.exe\")\n",
    "opt = webdriver.EdgeOptions()\n",
    "opt.add_experimental_option('excludeSwitches', ['enable-logging'])\n",
    "driver = webdriver.Edge(service=srvs, options=opt)\n",
    "driver.get('https://www.google.com/')\n",
    "\n",
    "# bikin box buat nyari element di search bar google\n",
    "box = driver.find_element(By.XPATH, '/html/body/div[1]/div[3]/form/div[1]/div[1]/div[1]/div/div[2]/input')\n",
    "box.send_keys(variabel)\n",
    "box.send_keys(Keys.ENTER)\n",
    "\n",
    "# klik google image bar yang diatas itu\n",
    "driver.find_element(By.XPATH, '//*[@id=\"hdtb-msb\"]/div[1]/div/div[2]/a').click()\n",
    "\n",
    "# scrolling google image sampe mentok ke bawah\n",
    "last_height = driver.execute_script('return document.body.scrollHeight')\n",
    "\n",
    "while True:\n",
    "    driver.execute_script('window.scrollTo(0, document.body.scrollHeight)')\n",
    "    time.sleep(2)\n",
    "    new_height = driver.execute_script('return document.body.scrollHeight')\n",
    "\n",
    "    try:\n",
    "        driver.find_element(By.XPATH, '//*[@id=\"islmp\"]/div/div/div/div[1]/div[2]/div[2]/input').click()\n",
    "        time.sleep(2)\n",
    "    except:\n",
    "        pass\n",
    "\n",
    "    if new_height == last_height: break\n",
    "    last_height = new_height\n",
    "\n",
    "\n",
    "for i in range(1, 10):\n",
    "    try:\n",
    "        pic = driver.find_element(By.XPATH, '//*[@id=\"islrg\"]/div[1]/div['+str(i)+']/a[1]/div[1]/img')\n",
    "        urllib.request.urlretrieve(pic, os.path.join(folder_dir, variabel+str(i)+'.jpg'))\n",
    "    except:\n",
    "        pass"
   ]
  },
  {
   "cell_type": "markdown",
   "metadata": {},
   "source": [
    "# *SPLITTING DATASET*"
   ]
  },
  {
   "cell_type": "code",
   "execution_count": 2,
   "metadata": {},
   "outputs": [
    {
     "name": "stderr",
     "output_type": "stream",
     "text": [
      "Copying files: 6024 files [04:36, 21.82 files/s]\n"
     ]
    }
   ],
   "source": [
    "import splitfolders as splits\n",
    "\n",
    "folderfiles = r'.\\backup_dataset'\n",
    "split_dir = r'.\\Images'\n",
    "splits.ratio(folderfiles, output=split_dir, seed=47, ratio=(0.6, 0.2, 0.2), group_prefix=None)"
   ]
  }
 ],
 "metadata": {
  "kernelspec": {
   "display_name": "Python 3.10.4 ('tf1')",
   "language": "python",
   "name": "python3"
  },
  "language_info": {
   "codemirror_mode": {
    "name": "ipython",
    "version": 3
   },
   "file_extension": ".py",
   "mimetype": "text/x-python",
   "name": "python",
   "nbconvert_exporter": "python",
   "pygments_lexer": "ipython3",
   "version": "3.10.8 | packaged by conda-forge | (main, Nov 24 2022, 14:07:00) [MSC v.1916 64 bit (AMD64)]"
  },
  "vscode": {
   "interpreter": {
    "hash": "e5d47089378e6e18d5e41b4ec5dc5221a0b09d5a84cf9a8c4af6a05ce24c8606"
   }
  }
 },
 "nbformat": 4,
 "nbformat_minor": 4
}
